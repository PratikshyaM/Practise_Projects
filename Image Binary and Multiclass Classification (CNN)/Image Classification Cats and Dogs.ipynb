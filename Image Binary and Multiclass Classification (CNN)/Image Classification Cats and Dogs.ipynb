{
 "cells": [
  {
   "cell_type": "code",
   "execution_count": 1,
   "metadata": {},
   "outputs": [
    {
     "name": "stderr",
     "output_type": "stream",
     "text": [
      "C:\\Users\\Dell\\Anaconda3\\lib\\site-packages\\h5py\\__init__.py:36: FutureWarning: Conversion of the second argument of issubdtype from `float` to `np.floating` is deprecated. In future, it will be treated as `np.float64 == np.dtype(float).type`.\n",
      "  from ._conv import register_converters as _register_converters\n",
      "Using TensorFlow backend.\n"
     ]
    }
   ],
   "source": [
    "#Importing the Keras libraries and packages\n",
    "from keras.models import Sequential\n",
    "from keras.layers import Conv2D\n",
    "from keras.layers import MaxPooling2D\n",
    "from keras.layers import Flatten\n",
    "from keras.layers import Dense"
   ]
  },
  {
   "cell_type": "code",
   "execution_count": 2,
   "metadata": {},
   "outputs": [],
   "source": [
    "#Initialising the CNN\n",
    "classifier = Sequential()\n",
    "#Step 1 - Convolution - Adding the first layer - 64X64 pixels and each pixel has 3 values for color channels\n",
    "classifier.add(Conv2D(32,(3,3), input_shape=(64,64,3),activation='relu'))\n",
    "#Pooling\n",
    "#classifier.add(MaxPooling2D(pool_size=(2,2)))\n",
    "#Adding a second convolutional layer\n",
    "classifier.add(Conv2D(32,(3,3),activation='relu'))\n",
    "classifier.add(MaxPooling2D(pool_size=(2,2))) #maping and reducing"
   ]
  },
  {
   "cell_type": "code",
   "execution_count": 3,
   "metadata": {},
   "outputs": [],
   "source": [
    "#Step 3 -Flattening \n",
    "classifier.add(Flatten())\n",
    "\n",
    "# Step 4 -Full connection\n",
    "classifier.add(Dense(units=128, activation='relu')) #multipes of 64\n",
    "classifier.add(Dense(units=1, activation='sigmoid')) #single output - 0cat or 1dog- true or false"
   ]
  },
  {
   "cell_type": "code",
   "execution_count": 4,
   "metadata": {},
   "outputs": [],
   "source": [
    "#Compiling the CNN\n",
    "#optimizer is a reverse propagation method- \n",
    "#how does it readjusts the weights when we are training it and it encounters an error\n",
    "#loss says how we compute the error- std deviation, cross entropy etc.\n",
    "classifier.compile(optimizer = 'adam', loss = 'binary_crossentropy', metrics = ['accuracy'])"
   ]
  },
  {
   "cell_type": "markdown",
   "metadata": {},
   "source": [
    "### Now that out model set up is done. We would fit the CNN to the images.\n",
    "### Part 2"
   ]
  },
  {
   "cell_type": "code",
   "execution_count": 6,
   "metadata": {},
   "outputs": [],
   "source": [
    "#Part 2 - Fitting the CNN to the images\n",
    "from keras.preprocessing.image import ImageDataGenerator\n",
    "train_datagen = ImageDataGenerator(rescale = 1./255 , shear_range = 0.2, zoom_range = 0.2, horizontal_flip = True)"
   ]
  },
  {
   "cell_type": "code",
   "execution_count": 7,
   "metadata": {},
   "outputs": [
    {
     "name": "stdout",
     "output_type": "stream",
     "text": [
      "Found 8000 images belonging to 2 classes.\n"
     ]
    }
   ],
   "source": [
    "training_set = train_datagen.flow_from_directory('Image Classification/training_set/training_Set',target_size=(64,64), \n",
    "                                                 batch_size = 32, class_mode = 'binary')"
   ]
  },
  {
   "cell_type": "code",
   "execution_count": 8,
   "metadata": {},
   "outputs": [
    {
     "name": "stdout",
     "output_type": "stream",
     "text": [
      "Found 2000 images belonging to 2 classes.\n"
     ]
    }
   ],
   "source": [
    "test_datagen = ImageDataGenerator(rescale = 1./255)\n",
    "test_set = train_datagen.flow_from_directory('Image Classification/test_set/test_set', target_size = (64,64), batch_size = 32,\n",
    "                                            class_mode = 'binary')"
   ]
  },
  {
   "cell_type": "code",
   "execution_count": 9,
   "metadata": {},
   "outputs": [
    {
     "name": "stdout",
     "output_type": "stream",
     "text": [
      "Epoch 1/10\n",
      "1000/1000 [==============================] - 436s 436ms/step - loss: 0.6040 - acc: 0.6690 - val_loss: 0.5373 - val_acc: 0.7406\n",
      "Epoch 2/10\n",
      "1000/1000 [==============================] - 370s 370ms/step - loss: 0.4724 - acc: 0.7738 - val_loss: 0.5148 - val_acc: 0.7625\n",
      "Epoch 3/10\n",
      "1000/1000 [==============================] - 360s 360ms/step - loss: 0.3857 - acc: 0.8241 - val_loss: 0.5199 - val_acc: 0.7594\n",
      "Epoch 4/10\n",
      "1000/1000 [==============================] - 472s 472ms/step - loss: 0.3082 - acc: 0.8678 - val_loss: 0.5768 - val_acc: 0.7812\n",
      "Epoch 5/10\n",
      "1000/1000 [==============================] - 339s 339ms/step - loss: 0.2407 - acc: 0.9015 - val_loss: 0.5890 - val_acc: 0.8000\n",
      "Epoch 6/10\n",
      "1000/1000 [==============================] - 332s 332ms/step - loss: 0.1842 - acc: 0.9267 - val_loss: 0.4858 - val_acc: 0.8250\n",
      "Epoch 7/10\n",
      "1000/1000 [==============================] - 387s 387ms/step - loss: 0.1510 - acc: 0.9400 - val_loss: 0.6035 - val_acc: 0.7993\n",
      "Epoch 8/10\n",
      "1000/1000 [==============================] - 375s 375ms/step - loss: 0.1185 - acc: 0.9550 - val_loss: 0.8345 - val_acc: 0.7750\n",
      "Epoch 9/10\n",
      "1000/1000 [==============================] - 336s 336ms/step - loss: 0.0978 - acc: 0.9631 - val_loss: 0.8468 - val_acc: 0.7781\n",
      "Epoch 10/10\n",
      "1000/1000 [==============================] - 339s 339ms/step - loss: 0.0884 - acc: 0.9683 - val_loss: 0.8546 - val_acc: 0.7906\n"
     ]
    },
    {
     "data": {
      "text/plain": [
       "<keras.callbacks.History at 0x12fcbfbb1d0>"
      ]
     },
     "execution_count": 9,
     "metadata": {},
     "output_type": "execute_result"
    }
   ],
   "source": [
    "#classifier.fit_generator(training_set, steps_per_epoch = 8000,\n",
    "#                        epochs=25, validation_data = test_set, validation_steps =2000)\n",
    "classifier.fit_generator(training_set, steps_per_epoch =1000, epochs =10, validation_data =test_set,\n",
    "                        validation_steps = 10)"
   ]
  },
  {
   "cell_type": "code",
   "execution_count": 25,
   "metadata": {},
   "outputs": [
    {
     "name": "stdout",
     "output_type": "stream",
     "text": [
      "dog\n"
     ]
    }
   ],
   "source": [
    "# Part 3 - Making new predictions\n",
    "\n",
    "import numpy as np\n",
    "from keras.preprocessing import image\n",
    "test_image = image.load_img('Image Classification/single_prediction/single_prediction/image3.jpg', target_size = (64,64))\n",
    "test_image = image.img_to_array(test_image)\n",
    "test_image = np.expand_dims(test_image, axis=0)\n",
    "result = classifier.predict(test_image)\n",
    "training_set.class_indices\n",
    "if result[0][0] == 1:\n",
    "    prediction = 'dog'\n",
    "else:\n",
    "    prediction =  'cat'\n",
    "print(prediction)"
   ]
  }
 ],
 "metadata": {
  "kernelspec": {
   "display_name": "Python 3",
   "language": "python",
   "name": "python3"
  },
  "language_info": {
   "codemirror_mode": {
    "name": "ipython",
    "version": 3
   },
   "file_extension": ".py",
   "mimetype": "text/x-python",
   "name": "python",
   "nbconvert_exporter": "python",
   "pygments_lexer": "ipython3",
   "version": "3.6.5"
  }
 },
 "nbformat": 4,
 "nbformat_minor": 2
}
