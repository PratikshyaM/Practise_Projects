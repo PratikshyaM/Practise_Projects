{
 "cells": [
  {
   "cell_type": "code",
   "execution_count": 15,
   "metadata": {},
   "outputs": [],
   "source": [
    "#Importing the Keras libraries and packages\n",
    "from keras.models import Sequential\n",
    "from keras.layers import Conv2D\n",
    "from keras.layers import MaxPooling2D\n",
    "from keras.layers import Flatten\n",
    "from keras.layers import Dense"
   ]
  },
  {
   "cell_type": "code",
   "execution_count": 16,
   "metadata": {},
   "outputs": [],
   "source": [
    "#Initialising the CNN\n",
    "classifier = Sequential()\n",
    "#Step 1 - Convolution - Adding the first layer - 128X128 pixels and each pixel has 3 values for color channels\n",
    "classifier.add(Conv2D(32,(3,3), input_shape=(128,128,3),activation='relu'))\n",
    "#Pooling\n",
    "classifier.add(MaxPooling2D(pool_size=(2,2)))\n",
    "#Adding a second convolutional layer\n",
    "classifier.add(Conv2D(32,(3,3),activation='relu')) #32 filters of size 3X3\n",
    "classifier.add(MaxPooling2D(pool_size=(2,2))) #maping and reducing"
   ]
  },
  {
   "cell_type": "code",
   "execution_count": 17,
   "metadata": {},
   "outputs": [],
   "source": [
    "#Step 3 -Flattening \n",
    "classifier.add(Flatten())\n",
    "\n",
    "# Step 4 -Full connection\n",
    "classifier.add(Dense(units=128, activation='relu')) #multipes of 128\n",
    "classifier.add(Dense(units=4, activation='sigmoid')) #single output - true or false\n"
   ]
  },
  {
   "cell_type": "code",
   "execution_count": 18,
   "metadata": {},
   "outputs": [],
   "source": [
    "#Compiling the CNN\n",
    "#optimizer is a reverse propagation method- \n",
    "#how does it readjusts the weights when we are training it and it encounters an error\n",
    "#loss says how we compute the error- std deviation, cross entropy etc.\n",
    "classifier.compile(optimizer = 'adam', loss = 'categorical_crossentropy', metrics = ['accuracy']) #rmsprop"
   ]
  },
  {
   "cell_type": "markdown",
   "metadata": {},
   "source": [
    "### Now that out model set up is done. We would fit the CNN to the images.\n",
    "### Part 2"
   ]
  },
  {
   "cell_type": "code",
   "execution_count": 19,
   "metadata": {},
   "outputs": [],
   "source": [
    "#Part 2 - Fitting the CNN to the images\n",
    "from keras.preprocessing.image import ImageDataGenerator\n",
    "train_datagen = ImageDataGenerator(rescale = 1./255 , shear_range = 0.2, zoom_range = 0.2, horizontal_flip = True)"
   ]
  },
  {
   "cell_type": "code",
   "execution_count": 20,
   "metadata": {},
   "outputs": [
    {
     "name": "stdout",
     "output_type": "stream",
     "text": [
      "Found 725 images belonging to 4 classes.\n"
     ]
    }
   ],
   "source": [
    "training_set = train_datagen.flow_from_directory('Fish and Crab/training_set',target_size=(128,128), \n",
    "                                                 batch_size = 32, class_mode = 'categorical')"
   ]
  },
  {
   "cell_type": "code",
   "execution_count": 21,
   "metadata": {},
   "outputs": [
    {
     "name": "stdout",
     "output_type": "stream",
     "text": [
      "Found 369 images belonging to 4 classes.\n"
     ]
    }
   ],
   "source": [
    "test_datagen = ImageDataGenerator(rescale = 1./255)\n",
    "test_set = train_datagen.flow_from_directory('Fish and Crab/test_set', target_size = (128,128), batch_size = 32,\n",
    "                                            class_mode = 'categorical')"
   ]
  },
  {
   "cell_type": "code",
   "execution_count": 22,
   "metadata": {},
   "outputs": [],
   "source": [
    "#train_labels = keras.utils.to_categorical(train_labels, num_classes)\n",
    "#test_labels = keras.utils.to_categorical(test_labels, num_classes)"
   ]
  },
  {
   "cell_type": "code",
   "execution_count": 23,
   "metadata": {},
   "outputs": [
    {
     "name": "stdout",
     "output_type": "stream",
     "text": [
      "Epoch 1/5\n",
      "500/500 [==============================] - 640s 1s/step - loss: 0.3642 - acc: 0.8158 - val_loss: 2.6079 - val_acc: 0.2156\n",
      "Epoch 2/5\n",
      "500/500 [==============================] - 631s 1s/step - loss: 0.1163 - acc: 0.9541 - val_loss: 7.6373 - val_acc: 0.1692\n",
      "Epoch 3/5\n",
      "500/500 [==============================] - 635s 1s/step - loss: 0.0574 - acc: 0.9805 - val_loss: 7.8385 - val_acc: 0.1922\n",
      "Epoch 4/5\n",
      "500/500 [==============================] - 627s 1s/step - loss: 0.0166 - acc: 0.9959 - val_loss: 10.2880 - val_acc: 0.1610\n",
      "Epoch 5/5\n",
      "500/500 [==============================] - 642s 1s/step - loss: 0.0276 - acc: 0.9912 - val_loss: 8.9774 - val_acc: 0.1834\n"
     ]
    },
    {
     "data": {
      "text/plain": [
       "<keras.callbacks.History at 0x1adc90ac3c8>"
      ]
     },
     "execution_count": 23,
     "metadata": {},
     "output_type": "execute_result"
    }
   ],
   "source": [
    "#classifier.fit_generator(training_set, steps_per_epoch = 2000,\n",
    "#                        epochs=15, validation_data = test_set, validation_steps =200)\n",
    "classifier.fit_generator(training_set, steps_per_epoch =500, epochs =5, validation_data =test_set,\n",
    "                        validation_steps = 100)"
   ]
  },
  {
   "cell_type": "code",
   "execution_count": 80,
   "metadata": {},
   "outputs": [
    {
     "name": "stdout",
     "output_type": "stream",
     "text": [
      "[[0. 1. 0. 0.]]\n",
      "crab\n"
     ]
    }
   ],
   "source": [
    "# Part 3 - Making new predictions\n",
    "\n",
    "import numpy as np\n",
    "from keras.preprocessing import image\n",
    "test_image = image.load_img('Fish and Crab/single_prediction/u.jpg', target_size = (128,128))\n",
    "test_image = image.img_to_array(test_image)\n",
    "test_image = np.expand_dims(test_image, axis=0) #put it into a single array\n",
    "result = classifier.predict(test_image)\n",
    "training_set.class_indices\n",
    "print(result)\n",
    "if result[0][0] == 1:\n",
    "    prediction = 'fish'\n",
    "elif result[0][1]==1:\n",
    "    prediction = 'crab'\n",
    "elif result[0][2]==1:\n",
    "    prediction = 'none'\n",
    "elif result[0][3]==1:\n",
    "    prediction =  'together'\n",
    "else:\n",
    "    prediction = 'Could not classify'\n",
    "print(prediction)"
   ]
  },
  {
   "cell_type": "code",
   "execution_count": null,
   "metadata": {},
   "outputs": [],
   "source": []
  }
 ],
 "metadata": {
  "kernelspec": {
   "display_name": "Python 3",
   "language": "python",
   "name": "python3"
  },
  "language_info": {
   "codemirror_mode": {
    "name": "ipython",
    "version": 3
   },
   "file_extension": ".py",
   "mimetype": "text/x-python",
   "name": "python",
   "nbconvert_exporter": "python",
   "pygments_lexer": "ipython3",
   "version": "3.6.5"
  }
 },
 "nbformat": 4,
 "nbformat_minor": 2
}
