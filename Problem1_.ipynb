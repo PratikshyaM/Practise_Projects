{
 "cells": [
  {
   "cell_type": "code",
   "execution_count": 38,
   "metadata": {},
   "outputs": [],
   "source": [
    "import pandas as pd\n",
    "import numpy as np\n",
    "import time\n",
    "import json\n",
    "path = 'C:/Users/Dell/Downloads/reviews_Automotive_5.json/Automotive_5.json'\n",
    "\n",
    "t0 = time.time()\n",
    "\n",
    "review_text = []\n",
    "summary = []\n",
    "with open(path, 'r') as f:\n",
    "    s = f.read()\n",
    "    s_ = s.split('}')\n",
    "    s_ = [i+'}' for i in s_]\n",
    "    \n",
    "    for i in range (0,len(s_)):\n",
    "        try:\n",
    "            data = json.loads(s_[i])\n",
    "            review_text.append(data['reviewText'])\n",
    "            summary.append(data['summary'])\n",
    "        except:\n",
    "            #print(i)\n",
    "            continue"
   ]
  },
  {
   "cell_type": "code",
   "execution_count": 39,
   "metadata": {},
   "outputs": [
    {
     "name": "stdout",
     "output_type": "stream",
     "text": [
      "20462\n",
      "49\n"
     ]
    }
   ],
   "source": [
    "#Reviews are similar if they share at least 5 significant words.\n",
    "#Significant words are words that are at at least 5 letters long.\n",
    "print(len(summary))\n",
    "df = pd.DataFrame()\n",
    "df['review_text'] = summary\n",
    "\n",
    "df['split_words'] = [i.split(\" \") for i in df['review_text']]\n",
    "\n",
    "split_words_5 = []\n",
    "for i in df['split_words']:\n",
    "    l = [li.lower() for li in i if len(li)>=5 and \"'\" not in li and \",\" not in li and \".\" not in li and \"/\" not in li]\n",
    "    split_words_5.append(l)\n",
    "\n",
    "df['split_words_5'] = split_words_5\n",
    "df['split_words_5_set'] = [set(i) for i in df['split_words_5']]\n",
    "\n",
    "import itertools\n",
    "#print([i for i in itertools.combinations([{1,2},{3,2},{1,3,4}], 2)])\n",
    "d = [1 for i in itertools.combinations(df['split_words_5_set'].to_list(), 2) if len(i[0].intersection(i[1]))>=5]\n",
    "\n",
    "print(sum(d))"
   ]
  },
  {
   "cell_type": "code",
   "execution_count": 40,
   "metadata": {},
   "outputs": [],
   "source": [
    "# When we consider 'summary' the pairs of similar summaries is 49.\n",
    "# When we consider 'reviewText' the pairs of similar reviews is 2663564."
   ]
  },
  {
   "cell_type": "code",
   "execution_count": 41,
   "metadata": {},
   "outputs": [
    {
     "name": "stdout",
     "output_type": "stream",
     "text": [
      "20462\n",
      "Total number of pairs similar 2663564\n",
      "200.19824171066284\n"
     ]
    }
   ],
   "source": [
    "print(len(review_text))\n",
    "df = pd.DataFrame()\n",
    "df['review_text'] = review_text\n",
    "df['split_words'] = [i.split(\" \") for i in df['review_text']]\n",
    "\n",
    "split_words_5 = []\n",
    "for i in df['split_words']:\n",
    "    l = [li.lower() for li in i if len(li)>=5 and \"'\" not in li and \",\" not in li and \".\" not in li and \"/\" not in li]\n",
    "    split_words_5.append(l)\n",
    "\n",
    "df['split_words_5'] = split_words_5\n",
    "\n",
    "df['split_words_5_set'] = [set(i) for i in df['split_words_5']]\n",
    "import itertools\n",
    "#print([i for i in itertools.combinations([{1,2},{3,2},{1,3,4}], 2)])\n",
    "d = [1 for i in itertools.combinations(df['split_words_5_set'].to_list(), 2) if len(i[0].intersection(i[1]))>=5]\n",
    "\n",
    "print(\"Total number of pairs similar\", sum(d))\n",
    "print(time.time() - t0)"
   ]
  },
  {
   "cell_type": "code",
   "execution_count": 42,
   "metadata": {},
   "outputs": [
    {
     "name": "stdout",
     "output_type": "stream",
     "text": [
      "3.3366373618443808 mins\n"
     ]
    }
   ],
   "source": [
    "print(200.19824171066284/60 ,\"mins\")"
   ]
  }
 ],
 "metadata": {
  "kernelspec": {
   "display_name": "Python 3",
   "language": "python",
   "name": "python3"
  },
  "language_info": {
   "codemirror_mode": {
    "name": "ipython",
    "version": 3
   },
   "file_extension": ".py",
   "mimetype": "text/x-python",
   "name": "python",
   "nbconvert_exporter": "python",
   "pygments_lexer": "ipython3",
   "version": "3.6.5"
  }
 },
 "nbformat": 4,
 "nbformat_minor": 2
}
