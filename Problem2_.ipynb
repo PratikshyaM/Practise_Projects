{
 "cells": [
  {
   "cell_type": "code",
   "execution_count": 69,
   "metadata": {},
   "outputs": [],
   "source": [
    "import pandas as pd\n",
    "import numpy as np\n",
    "from matplotlib import pyplot as plt\n",
    "import random\n",
    "array_all = []\n",
    "array_unique = []\n",
    "s = ['0','0','0','0','0',' ',' ',' ',' ']"
   ]
  },
  {
   "cell_type": "code",
   "execution_count": 70,
   "metadata": {},
   "outputs": [],
   "source": [
    "def validate(s_):\n",
    "    c = {}\n",
    "    counter = 0\n",
    "    for i in range(0,s_.shape[0]):\n",
    "        for j in range(0,s_.shape[1]):\n",
    "            c_ = []\n",
    "            if s_[i,j] == '0':\n",
    "                counter = counter + 1\n",
    "                if j+1 < s_.shape[1]:\n",
    "                    if s_[i,j+1] == '0':\n",
    "                        c_.append(0)\n",
    "                if j-1 >= 0:\n",
    "                    if s_[i,j-1] == '0':\n",
    "                        c_.append(0)\n",
    "                if i+1 < s_.shape[0]:\n",
    "                    if s_[i+1,j] == '0':\n",
    "                        c_.append(0)\n",
    "                if i-1 >= 0:\n",
    "                    if s_[i-1,j] == '0':\n",
    "                        c_.append(0)\n",
    "            if s_[i,j] == ' ':\n",
    "                continue\n",
    "            c[counter] = c_\n",
    "    \n",
    "    l = [len(i) for i in c.values()]\n",
    "    #print(l)\n",
    "    if ((l.count(1) ==2 or l.count(1) ==3) or l.count(2) >=2) and 0 not in l:\n",
    "        return'valid'\n",
    "    else:\n",
    "        return 'invalid'\n"
   ]
  },
  {
   "cell_type": "code",
   "execution_count": 71,
   "metadata": {},
   "outputs": [],
   "source": [
    "for i in range (0,1000):\n",
    "    random.shuffle(s)\n",
    "    s_ = np.asarray(s).reshape(3,3)\n",
    "    #print(s_)\n",
    "\n",
    "    if (validate(s_) == 'valid'):\n",
    "        s_1 = []\n",
    "        p = None\n",
    "        if [' ', ' ', ' '] in s_.tolist() :\n",
    "            ii = s_.tolist().index([' ', ' ', ' '])  #.tolist().index(['', '', '']))\n",
    "            if ii == 0:\n",
    "                s_1 = [s_[1],s_[2],s_[0]]\n",
    "            if ii == 2:\n",
    "                s_1 = [s_[2],s_[0],s_[1]]\n",
    "            #print(np.asarray(s_1))\n",
    "        \n",
    "        if (s_1 and not any((elem == np.asarray(s_1)).all() for elem in array_all)) or (not s_1):\n",
    "            p = 1\n",
    "        \n",
    "        if (not any((elem == s_).all() for elem in array_all) ) and p:\n",
    "            array_all.append(s_)\n",
    "            array_unique.append(s_)\n",
    "            for i in range (1,4):\n",
    "                array_all.append(np.rot90(s_, k=i, axes=(0, 1)))\n",
    "                if (s_1):\n",
    "                    array_all.append(np.asarray(s_1))\n",
    "                    array_all.append(np.rot90(np.asarray(s_1), k=i, axes=(0, 1)))\n",
    "        \n",
    "            '''if (s_[0][0]==' ' and s_[1][0] == ' ' and s_[2][0] == ' ' ):\n",
    "                s_[0][0],s_[1][0],s_[2][0]  = s_[0][1],s_[1][1],s_[2][1]\n",
    "                s_[0][1],s_[1][1],s_[2][1] = s_[0][2],s_[1][2],s_[2][2]\n",
    "                s_[0][2],s_[1][2],s_[2][2] = ' ',' ',' '\n",
    "                array_all.append(s_)\n",
    "                for i in range (1,4):\n",
    "                    array_all.append(np.rot90(s_, k=i, axes=(0, 1)))\n",
    "            elif (s_[0][2]==' ' and s_[1][2] == ' ' and s_[2][2] == ' '):\n",
    "                s_[0][2],s_[1][2],s_[2][2] = s_[0][1],s_[1][1],s_[2][1]\n",
    "                s_[0][1],s_[1][1],s_[2][1] = s_[0][0],s_[1][0],s_[2][0]\n",
    "                s_[0][0],s_[1][0],s_[2][0] = ' ',' ',' '\n",
    "                array_all.append(s_)\n",
    "                for i in range (1,4):\n",
    "                    array_all.append(np.rot90(s_, k=i, axes=(0, 1)))'''"
   ]
  },
  {
   "cell_type": "code",
   "execution_count": 72,
   "metadata": {},
   "outputs": [
    {
     "data": {
      "text/plain": [
       "10"
      ]
     },
     "execution_count": 72,
     "metadata": {},
     "output_type": "execute_result"
    }
   ],
   "source": [
    "#array_unique = [i.tolist() for i in array_unique]\n",
    "len(array_unique)\n"
   ]
  },
  {
   "cell_type": "code",
   "execution_count": 229,
   "metadata": {},
   "outputs": [],
   "source": [
    "s2 = ['0','0','0','0','0',' ',' ',' ']\n",
    "arr_unique = []\n",
    "arr_all = []\n",
    "for k in range (0, 1000):\n",
    "    #print(k)\n",
    "    random.shuffle(s2)\n",
    "    s2_ = np.asarray(s2).reshape(2,4)\n",
    "    try:\n",
    "        if validate(s2_) == 'valid' and (not any((elem.tolist() == s2_.tolist()) for elem in arr_all)):\n",
    "            #print(s2_)\n",
    "            if s2_[0].tolist() == ['0','0','0','0'] or s2_[1].tolist() == ['0','0','0','0']:\n",
    "                arr_unique.append(s2_)\n",
    "                for i in range(0,4):\n",
    "                    arr_all.append(np.rot90(np.asarray(s2_), k=i, axes=(0, 1)))\n",
    "    except:\n",
    "        continue"
   ]
  },
  {
   "cell_type": "code",
   "execution_count": 230,
   "metadata": {},
   "outputs": [
    {
     "data": {
      "text/plain": [
       "4"
      ]
     },
     "execution_count": 230,
     "metadata": {},
     "output_type": "execute_result"
    }
   ],
   "source": [
    "len(arr_unique)"
   ]
  },
  {
   "cell_type": "code",
   "execution_count": 231,
   "metadata": {},
   "outputs": [
    {
     "name": "stdout",
     "output_type": "stream",
     "text": [
      "0 0 0 0\n",
      "      0\n",
      "---------\n",
      "    0  \n",
      "0 0 0 0\n",
      "---------\n",
      "0 0 0 0\n",
      "    0  \n",
      "---------\n",
      "      0\n",
      "0 0 0 0\n",
      "---------\n",
      "  0 0\n",
      "0 0  \n",
      "0    \n",
      "---------\n",
      "     \n",
      "  0 0\n",
      "0 0 0\n",
      "---------\n",
      "0    \n",
      "0 0 0\n",
      "    0\n",
      "---------\n",
      "0    \n",
      "0 0 0\n",
      "0    \n",
      "---------\n",
      "0 0  \n",
      "  0  \n",
      "  0 0\n",
      "---------\n",
      "0 0 0\n",
      "0   0\n",
      "     \n",
      "---------\n",
      "     \n",
      "0 0 0\n",
      "  0 0\n",
      "---------\n",
      "    0\n",
      "    0\n",
      "0 0 0\n",
      "---------\n",
      "  0  \n",
      "  0 0\n",
      "0 0  \n",
      "---------\n",
      "  0  \n",
      "0 0 0\n",
      "0    \n",
      "---------\n"
     ]
    }
   ],
   "source": [
    "\n",
    "for i in arr_unique:\n",
    "    print(i[0][0], i[0][1],i[0][2],i[0][3])\n",
    "    print(i[1][0],i[1][1],i[1][2],i[1][3])\n",
    "    print('---------')\n",
    "    \n",
    "for i in array_unique:\n",
    "    print(i[0][0], i[0][1],i[0][2])\n",
    "    print(i[1][0],i[1][1],i[1][2])\n",
    "    print(i[2][0],i[2][1],i[2][2])\n",
    "    print('---------')\n"
   ]
  }
 ],
 "metadata": {
  "kernelspec": {
   "display_name": "Python 3",
   "language": "python",
   "name": "python3"
  },
  "language_info": {
   "codemirror_mode": {
    "name": "ipython",
    "version": 3
   },
   "file_extension": ".py",
   "mimetype": "text/x-python",
   "name": "python",
   "nbconvert_exporter": "python",
   "pygments_lexer": "ipython3",
   "version": "3.6.5"
  }
 },
 "nbformat": 4,
 "nbformat_minor": 2
}
