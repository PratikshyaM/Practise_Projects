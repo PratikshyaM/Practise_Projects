{
 "cells": [
  {
   "cell_type": "code",
   "execution_count": 2,
   "metadata": {},
   "outputs": [],
   "source": [
    "import odia"
   ]
  },
  {
   "cell_type": "code",
   "execution_count": 3,
   "metadata": {},
   "outputs": [
    {
     "name": "stdout",
     "output_type": "stream",
     "text": [
      "version: 0.0.7\n"
     ]
    }
   ],
   "source": [
    "print(f'version: {odia.__version__}')"
   ]
  },
  {
   "cell_type": "code",
   "execution_count": 4,
   "metadata": {},
   "outputs": [
    {
     "name": "stdout",
     "output_type": "stream",
     "text": [
      "vowels: ['ଅ', 'ଆ', 'ଇ', 'ଈ', 'ଉ', 'ଊ', 'ଋ', 'ୠ', 'ଏ', 'ଐ', 'ଓ', 'ଔ']\n"
     ]
    }
   ],
   "source": [
    "print(f'vowels: {odia.vowels}')"
   ]
  },
  {
   "cell_type": "code",
   "execution_count": 5,
   "metadata": {},
   "outputs": [
    {
     "name": "stdout",
     "output_type": "stream",
     "text": [
      "consonants: ['କ', 'ଖ', 'ଗ', 'ଘ', 'ଙ', 'ଚ', 'ଛ', 'ଜ', 'ଝ', 'ଞ', 'ଟ', 'ଠ', 'ଡ', 'ଢ', 'ଣ', 'ତ', 'ଥ', 'ଦ', 'ଧ', 'ନ', 'ପ', 'ଫ', 'ବ', 'ଭ', 'ମ', 'ଯ', 'ୟ', 'ର', 'ଳ', 'ଲ', 'ଵ', 'ଶ', 'ଷ', 'ସ', 'ହ', 'କ୍ଷ', 'ଜ୍ଞ']\n"
     ]
    }
   ],
   "source": [
    "print(f'consonants: {odia.consonants}')"
   ]
  },
  {
   "cell_type": "code",
   "execution_count": 6,
   "metadata": {},
   "outputs": [
    {
     "name": "stdout",
     "output_type": "stream",
     "text": [
      "numbers: ['୦', '୧', '୨', '୩', '୪', '୫', '୬', '୭', '୮', '୯']\n"
     ]
    }
   ],
   "source": [
    "print(f'numbers: {odia.numbers}')"
   ]
  },
  {
   "cell_type": "code",
   "execution_count": null,
   "metadata": {},
   "outputs": [],
   "source": []
  },
  {
   "cell_type": "code",
   "execution_count": 8,
   "metadata": {},
   "outputs": [],
   "source": [
    "df = {1 : 'ଅ',2: 'ଆ',3: 'ଇ', 4:'ଈ',5: 'ଉ',6: 'ଊ', 7:'ଋ', 8:'ୠ', 9:'ଏ',10: 'ଐ', 11:'ଓ',12: 'ଔ',\n",
    "          13: 'କ', 14:'ଖ', 15:'ଗ', 16:'ଘ', 17:'ଙ',18: 'ଚ',19: 'ଛ', 20:'ଜ', \n",
    "           21:'ଝ', 22:'ଞ', 23:'ଟ', 24:'ଠ', 25:'ଡ', 26:'ଢ', 27:'ଣ', 28:'ତ', 29:'ଥ', \n",
    "           30:'ଦ', 31:'ଧ', 32:'ନ', 33:'ପ', 34:'ଫ', 35:'ବ', 36:'ଭ', 37:'ମ', 38:'ଯ', 39:'ର',\n",
    "           40:'ଳ', 41:'ଲ', 42:'ୟ', 43:'ଶ',44: 'ଷ',45: 'ସ',46: 'ହ', 47:'କ୍ଷ'}"
   ]
  },
  {
   "cell_type": "code",
   "execution_count": 9,
   "metadata": {},
   "outputs": [],
   "source": [
    "import pickle\n",
    "\n",
    "with open('dict_odia_letters.pickle', 'wb') as handle:\n",
    "    pickle.dump(df, handle, protocol=pickle.HIGHEST_PROTOCOL)\n",
    "    \n",
    "    \n",
    "    \n",
    "'''with open('filename.pickle', 'rb') as handle:\n",
    "    b = pickle.load(handle)\n",
    "'''"
   ]
  }
 ],
 "metadata": {
  "kernelspec": {
   "display_name": "Python 3",
   "language": "python",
   "name": "python3"
  },
  "language_info": {
   "codemirror_mode": {
    "name": "ipython",
    "version": 3
   },
   "file_extension": ".py",
   "mimetype": "text/x-python",
   "name": "python",
   "nbconvert_exporter": "python",
   "pygments_lexer": "ipython3",
   "version": "3.6.5"
  }
 },
 "nbformat": 4,
 "nbformat_minor": 2
}
