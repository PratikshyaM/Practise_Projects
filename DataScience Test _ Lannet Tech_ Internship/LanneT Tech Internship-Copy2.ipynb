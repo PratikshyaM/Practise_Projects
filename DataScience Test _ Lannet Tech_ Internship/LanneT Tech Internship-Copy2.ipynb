{
 "cells": [
  {
   "cell_type": "markdown",
   "metadata": {},
   "source": [
    "### Import Libraries"
   ]
  },
  {
   "cell_type": "code",
   "execution_count": 13,
   "metadata": {},
   "outputs": [],
   "source": [
    "import numpy as np\n",
    "import pandas as pd\n",
    "import datetime \n",
    "from datetime import timedelta\n",
    "import re\n",
    "import itertools"
   ]
  },
  {
   "cell_type": "markdown",
   "metadata": {},
   "source": [
    "### Check valid date format through regular expressions"
   ]
  },
  {
   "cell_type": "code",
   "execution_count": 14,
   "metadata": {},
   "outputs": [],
   "source": [
    "def valid_date(i):\n",
    "    try:\n",
    "        t = datetime.datetime.strptime(re.search(r'\\d{2}(-|.){1}\\d{2}(-|.)\\d{4}',i).group(), '%d.%m.%Y')\n",
    "        return [True,t]\n",
    "    except:\n",
    "        try:\n",
    "            t = datetime.datetime.strptime(re.search(r'\\d{2}(-|.){1}\\d{2}(-|.)\\d{4}',i).group(), '%d-%m-%Y')\n",
    "            return [True,t]\n",
    "        except:\n",
    "            return [False]"
   ]
  },
  {
   "cell_type": "markdown",
   "metadata": {},
   "source": [
    "### Handling Invalid data in date columns (check row wise if value matches the regular expression)"
   ]
  },
  {
   "cell_type": "code",
   "execution_count": 15,
   "metadata": {},
   "outputs": [],
   "source": [
    "def check_rowwise_date(df):\n",
    "    for col in df.columns:\n",
    "        if df[col].dtype == 'object':\n",
    "            df[col] = [valid_date(i)[1] if valid_date(i)[0] else None for i in df[col].values]\n",
    "\n",
    "    df.dropna(axis = 1, how = 'all', inplace = True)\n",
    "    df.ffill(axis = 0, inplace = True)\n",
    "    df.bfill(axis = 0, inplace = True)\n",
    "    print(df.dtypes)\n",
    "    print(df.head(10))"
   ]
  },
  {
   "cell_type": "markdown",
   "metadata": {},
   "source": [
    "### Keep only date columns"
   ]
  },
  {
   "cell_type": "code",
   "execution_count": 16,
   "metadata": {},
   "outputs": [],
   "source": [
    "def check_date_col(df):\n",
    "    for col in df.columns:\n",
    "        if df[col].dtype == 'object':\n",
    "            try:\n",
    "                df[col] = pd.to_datetime(df[col])\n",
    "                #df[col] = pd.Timestamp(df[col])\n",
    "            except ValueError:\n",
    "                pass\n",
    "            except TypeError:\n",
    "                pass\n",
    "        if df[col].dtype == 'datetime64[ns]':\n",
    "            mask = df[col].values[0] < np.datetime64(datetime.datetime(1971, 12, 12))\n",
    "            if mask:\n",
    "                df.drop(columns = [col], axis=1, inplace=True)\n",
    "\n",
    "    df.dropna(axis = 1, how = 'all', inplace = True)\n",
    "    check_rowwise_date(df)"
   ]
  },
  {
   "cell_type": "markdown",
   "metadata": {},
   "source": [
    "### Find Difference between each of the date columns"
   ]
  },
  {
   "cell_type": "code",
   "execution_count": 17,
   "metadata": {},
   "outputs": [],
   "source": [
    "def difference_bet_date_col(df):\n",
    "    df.columns = ['Date'+str(i) for i in df.columns]\n",
    "    l = [i for i in itertools.combinations(df.columns, 2)]\n",
    "    for i in l:\n",
    "        df[i[0]+'-'+i[1]] = [(u-v).astype('timedelta64[D]')/ np.timedelta64(1, 'D') \n",
    "                            for u,v in zip(df[i[0]].values, df[i[1]].values)]\n",
    "\n",
    "    print(df.head(10))"
   ]
  },
  {
   "cell_type": "markdown",
   "metadata": {},
   "source": [
    "### Dummy Dataframe with different date formats, invalid data, and other datatypes"
   ]
  },
  {
   "cell_type": "code",
   "execution_count": 18,
   "metadata": {},
   "outputs": [
    {
     "data": {
      "text/html": [
       "<div>\n",
       "<style scoped>\n",
       "    .dataframe tbody tr th:only-of-type {\n",
       "        vertical-align: middle;\n",
       "    }\n",
       "\n",
       "    .dataframe tbody tr th {\n",
       "        vertical-align: top;\n",
       "    }\n",
       "\n",
       "    .dataframe thead th {\n",
       "        text-align: right;\n",
       "    }\n",
       "</style>\n",
       "<table border=\"1\" class=\"dataframe\">\n",
       "  <thead>\n",
       "    <tr style=\"text-align: right;\">\n",
       "      <th></th>\n",
       "      <th>0</th>\n",
       "      <th>1</th>\n",
       "      <th>2</th>\n",
       "      <th>3</th>\n",
       "      <th>4</th>\n",
       "      <th>5</th>\n",
       "      <th>6</th>\n",
       "    </tr>\n",
       "  </thead>\n",
       "  <tbody>\n",
       "    <tr>\n",
       "      <th>1</th>\n",
       "      <td>1</td>\n",
       "      <td>Pallavi</td>\n",
       "      <td>1141016266</td>\n",
       "      <td>14/08/2020</td>\n",
       "      <td>11-08-2020</td>\n",
       "      <td>12.08.2020</td>\n",
       "      <td>13/08/2020 00:02:40</td>\n",
       "    </tr>\n",
       "    <tr>\n",
       "      <th>2</th>\n",
       "      <td>2</td>\n",
       "      <td>Pratikshya</td>\n",
       "      <td>1141016267</td>\n",
       "      <td>15-08-2020</td>\n",
       "      <td>12.08.2020</td>\n",
       "      <td>13/08/2020 00:02:40</td>\n",
       "      <td>10/08/2020</td>\n",
       "    </tr>\n",
       "    <tr>\n",
       "      <th>3</th>\n",
       "      <td>3</td>\n",
       "      <td>Partha</td>\n",
       "      <td>1141016268</td>\n",
       "      <td>16/08/2020</td>\n",
       "      <td>11-08-2020</td>\n",
       "      <td>13/08/2020 00:02:40</td>\n",
       "      <td>12.08.2020</td>\n",
       "    </tr>\n",
       "    <tr>\n",
       "      <th>4</th>\n",
       "      <td>4</td>\n",
       "      <td>Pranati</td>\n",
       "      <td>1141016269</td>\n",
       "      <td>17/08/2020</td>\n",
       "      <td>12.08.2020</td>\n",
       "      <td>13/08/2020 00:02:40</td>\n",
       "      <td>11-08-2020</td>\n",
       "    </tr>\n",
       "    <tr>\n",
       "      <th>5</th>\n",
       "      <td>5</td>\n",
       "      <td>Parul</td>\n",
       "      <td>1141016261</td>\n",
       "      <td>18/08/2020</td>\n",
       "      <td>11-08-2020</td>\n",
       "      <td>13/08/2020 00:02:40</td>\n",
       "      <td>12.08.2020</td>\n",
       "    </tr>\n",
       "    <tr>\n",
       "      <th>6</th>\n",
       "      <td>6</td>\n",
       "      <td>Pakshi</td>\n",
       "      <td>1141016262</td>\n",
       "      <td>19-08-2020</td>\n",
       "      <td>12.08.2020</td>\n",
       "      <td>13/08/2020 00:02:40</td>\n",
       "      <td>10/08/2020</td>\n",
       "    </tr>\n",
       "    <tr>\n",
       "      <th>7</th>\n",
       "      <td>7</td>\n",
       "      <td>Paul</td>\n",
       "      <td>1141016263</td>\n",
       "      <td>15/08/2020</td>\n",
       "      <td>11-08-2020</td>\n",
       "      <td>12.08.2020</td>\n",
       "      <td>13/08/2020 00:02:40</td>\n",
       "    </tr>\n",
       "    <tr>\n",
       "      <th>8</th>\n",
       "      <td>8</td>\n",
       "      <td>Paulami</td>\n",
       "      <td>1141016264</td>\n",
       "      <td>13/08/2020</td>\n",
       "      <td>sss</td>\n",
       "      <td>12.08.2020</td>\n",
       "      <td>13/08/2020 00:02:40</td>\n",
       "    </tr>\n",
       "    <tr>\n",
       "      <th>9</th>\n",
       "      <td>9</td>\n",
       "      <td>Paras</td>\n",
       "      <td>1141016265</td>\n",
       "      <td>10/08/2020</td>\n",
       "      <td>11-08-2020</td>\n",
       "      <td>12.08.2020</td>\n",
       "      <td>13/08/2020 00:02:40</td>\n",
       "    </tr>\n",
       "    <tr>\n",
       "      <th>10</th>\n",
       "      <td>10</td>\n",
       "      <td>Panu</td>\n",
       "      <td>1141016296</td>\n",
       "      <td>10/08/2020</td>\n",
       "      <td>11-08-2020</td>\n",
       "      <td>12.08.2020</td>\n",
       "      <td>March 01, 2019</td>\n",
       "    </tr>\n",
       "  </tbody>\n",
       "</table>\n",
       "</div>"
      ],
      "text/plain": [
       "     0           1           2           3           4                    5  \\\n",
       "1    1     Pallavi  1141016266  14/08/2020  11-08-2020           12.08.2020   \n",
       "2    2  Pratikshya  1141016267  15-08-2020  12.08.2020  13/08/2020 00:02:40   \n",
       "3    3      Partha  1141016268  16/08/2020  11-08-2020  13/08/2020 00:02:40   \n",
       "4    4     Pranati  1141016269  17/08/2020  12.08.2020  13/08/2020 00:02:40   \n",
       "5    5       Parul  1141016261  18/08/2020  11-08-2020  13/08/2020 00:02:40   \n",
       "6    6      Pakshi  1141016262  19-08-2020  12.08.2020  13/08/2020 00:02:40   \n",
       "7    7        Paul  1141016263  15/08/2020  11-08-2020           12.08.2020   \n",
       "8    8     Paulami  1141016264  13/08/2020         sss           12.08.2020   \n",
       "9    9       Paras  1141016265  10/08/2020  11-08-2020           12.08.2020   \n",
       "10  10        Panu  1141016296  10/08/2020  11-08-2020           12.08.2020   \n",
       "\n",
       "                      6  \n",
       "1   13/08/2020 00:02:40  \n",
       "2            10/08/2020  \n",
       "3            12.08.2020  \n",
       "4            11-08-2020  \n",
       "5            12.08.2020  \n",
       "6            10/08/2020  \n",
       "7   13/08/2020 00:02:40  \n",
       "8   13/08/2020 00:02:40  \n",
       "9   13/08/2020 00:02:40  \n",
       "10       March 01, 2019  "
      ]
     },
     "execution_count": 18,
     "metadata": {},
     "output_type": "execute_result"
    }
   ],
   "source": [
    "df = pd.DataFrame({1 : [1,'Pallavi',1141016266,'14/08/2020','11-08-2020','12.08.2020','13/08/2020 00:02:40'],\n",
    "                   2:  [2,'Pratikshya',1141016267,'15-08-2020','12.08.2020','13/08/2020 00:02:40','10/08/2020'],\n",
    "                   3:  [3,'Partha',1141016268,'16/08/2020','11-08-2020','13/08/2020 00:02:40','12.08.2020'],\n",
    "                   4:  [4,'Pranati',1141016269,'17/08/2020','12.08.2020','13/08/2020 00:02:40','11-08-2020'],\n",
    "                   5:  [5,'Parul',1141016261,'18/08/2020','11-08-2020','13/08/2020 00:02:40','12.08.2020'],\n",
    "                   6:  [6,'Pakshi',1141016262,'19-08-2020','12.08.2020','13/08/2020 00:02:40','10/08/2020'],\n",
    "                   7:  [7,'Paul',1141016263,'15/08/2020','11-08-2020','12.08.2020','13/08/2020 00:02:40'],\n",
    "                   8:  [8,'Paulami',1141016264,'13/08/2020','sss','12.08.2020','13/08/2020 00:02:40'],\n",
    "                   9:  [9,'Paras',1141016265,'10/08/2020','11-08-2020','12.08.2020','13/08/2020 00:02:40'],\n",
    "                   10:  [10,'Panu',1141016296,'10/08/2020','11-08-2020','12.08.2020','March 01, 2019']})\n",
    "df = df.T\n",
    "df.head(10)"
   ]
  },
  {
   "cell_type": "code",
   "execution_count": 19,
   "metadata": {},
   "outputs": [
    {
     "name": "stdout",
     "output_type": "stream",
     "text": [
      "3    datetime64[ns]\n",
      "4    datetime64[ns]\n",
      "5    datetime64[ns]\n",
      "6    datetime64[ns]\n",
      "dtype: object\n",
      "            3          4                   5                   6\n",
      "1  2020-08-14 2020-08-11 2020-12-08 00:00:00 2020-08-13 00:02:40\n",
      "2  2020-08-15 2020-08-12 2020-08-13 00:02:40 2020-10-08 00:00:00\n",
      "3  2020-08-16 2020-08-11 2020-08-13 00:02:40 2020-12-08 00:00:00\n",
      "4  2020-08-17 2020-08-12 2020-08-13 00:02:40 2020-11-08 00:00:00\n",
      "5  2020-08-18 2020-08-11 2020-08-13 00:02:40 2020-12-08 00:00:00\n",
      "6  2020-08-19 2020-08-12 2020-08-13 00:02:40 2020-10-08 00:00:00\n",
      "7  2020-08-15 2020-08-11 2020-12-08 00:00:00 2020-08-13 00:02:40\n",
      "8  2020-08-13 2020-08-11 2020-12-08 00:00:00 2020-08-13 00:02:40\n",
      "9  2020-10-08 2020-08-11 2020-12-08 00:00:00 2020-08-13 00:02:40\n",
      "10 2020-10-08 2020-08-11 2020-12-08 00:00:00 2019-03-01 00:00:00\n"
     ]
    }
   ],
   "source": [
    "# Checking which are date columns, discarding rest\n",
    "check_date_col(df)"
   ]
  },
  {
   "cell_type": "code",
   "execution_count": 20,
   "metadata": {},
   "outputs": [
    {
     "name": "stdout",
     "output_type": "stream",
     "text": [
      "        Date3      Date4               Date5               Date6  Date3-Date4  \\\n",
      "1  2020-08-14 2020-08-11 2020-12-08 00:00:00 2020-08-13 00:02:40          3.0   \n",
      "2  2020-08-15 2020-08-12 2020-08-13 00:02:40 2020-10-08 00:00:00          3.0   \n",
      "3  2020-08-16 2020-08-11 2020-08-13 00:02:40 2020-12-08 00:00:00          5.0   \n",
      "4  2020-08-17 2020-08-12 2020-08-13 00:02:40 2020-11-08 00:00:00          5.0   \n",
      "5  2020-08-18 2020-08-11 2020-08-13 00:02:40 2020-12-08 00:00:00          7.0   \n",
      "6  2020-08-19 2020-08-12 2020-08-13 00:02:40 2020-10-08 00:00:00          7.0   \n",
      "7  2020-08-15 2020-08-11 2020-12-08 00:00:00 2020-08-13 00:02:40          4.0   \n",
      "8  2020-08-13 2020-08-11 2020-12-08 00:00:00 2020-08-13 00:02:40          2.0   \n",
      "9  2020-10-08 2020-08-11 2020-12-08 00:00:00 2020-08-13 00:02:40         58.0   \n",
      "10 2020-10-08 2020-08-11 2020-12-08 00:00:00 2019-03-01 00:00:00         58.0   \n",
      "\n",
      "    Date3-Date5  Date3-Date6  Date4-Date5  Date4-Date6  Date5-Date6  \n",
      "1        -116.0          0.0       -119.0         -3.0        116.0  \n",
      "2           1.0        -54.0         -2.0        -57.0        -56.0  \n",
      "3           2.0       -114.0         -3.0       -119.0       -117.0  \n",
      "4           3.0        -83.0         -2.0        -88.0        -87.0  \n",
      "5           4.0       -112.0         -3.0       -119.0       -117.0  \n",
      "6           5.0        -50.0         -2.0        -57.0        -56.0  \n",
      "7        -115.0          1.0       -119.0         -3.0        116.0  \n",
      "8        -117.0         -1.0       -119.0         -3.0        116.0  \n",
      "9         -61.0         55.0       -119.0         -3.0        116.0  \n",
      "10        -61.0        587.0       -119.0        529.0        648.0  \n"
     ]
    }
   ],
   "source": [
    "# Finding the difference between each of the date columns\n",
    "difference_bet_date_col(df)"
   ]
  }
 ],
 "metadata": {
  "kernelspec": {
   "display_name": "Python 3",
   "language": "python",
   "name": "python3"
  },
  "language_info": {
   "codemirror_mode": {
    "name": "ipython",
    "version": 3
   },
   "file_extension": ".py",
   "mimetype": "text/x-python",
   "name": "python",
   "nbconvert_exporter": "python",
   "pygments_lexer": "ipython3",
   "version": "3.6.5"
  }
 },
 "nbformat": 4,
 "nbformat_minor": 2
}
